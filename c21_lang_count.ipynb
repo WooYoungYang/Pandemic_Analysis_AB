{
 "cells": [
  {
   "cell_type": "code",
   "execution_count": 1,
   "metadata": {},
   "outputs": [],
   "source": [
    "import pandas as pd\n",
    "import numpy as np\n",
    "import glob"
   ]
  },
  {
   "cell_type": "code",
   "execution_count": 2,
   "metadata": {},
   "outputs": [
    {
     "data": {
      "text/html": [
       "<div>\n",
       "<style scoped>\n",
       "    .dataframe tbody tr th:only-of-type {\n",
       "        vertical-align: middle;\n",
       "    }\n",
       "\n",
       "    .dataframe tbody tr th {\n",
       "        vertical-align: top;\n",
       "    }\n",
       "\n",
       "    .dataframe thead th {\n",
       "        text-align: right;\n",
       "    }\n",
       "</style>\n",
       "<table border=\"1\" class=\"dataframe\">\n",
       "  <thead>\n",
       "    <tr style=\"text-align: right;\">\n",
       "      <th></th>\n",
       "      <th>latitude</th>\n",
       "      <th>longitude</th>\n",
       "    </tr>\n",
       "    <tr>\n",
       "      <th>city</th>\n",
       "      <th></th>\n",
       "      <th></th>\n",
       "    </tr>\n",
       "  </thead>\n",
       "  <tbody>\n",
       "    <tr>\n",
       "      <th>Amsterdam</th>\n",
       "      <td>52.2200</td>\n",
       "      <td>4.54000</td>\n",
       "    </tr>\n",
       "    <tr>\n",
       "      <th>Athens</th>\n",
       "      <td>37.5902</td>\n",
       "      <td>23.43401</td>\n",
       "    </tr>\n",
       "    <tr>\n",
       "      <th>Barcelona</th>\n",
       "      <td>41.2300</td>\n",
       "      <td>2.11000</td>\n",
       "    </tr>\n",
       "  </tbody>\n",
       "</table>\n",
       "</div>"
      ],
      "text/plain": [
       "           latitude  longitude\n",
       "city                          \n",
       "Amsterdam   52.2200    4.54000\n",
       "Athens      37.5902   23.43401\n",
       "Barcelona   41.2300    2.11000"
      ]
     },
     "execution_count": 2,
     "metadata": {},
     "output_type": "execute_result"
    }
   ],
   "source": [
    "coor = pd.DataFrame([['Amsterdam', 52.22, 4.54],\n",
    "                     ['Athens', 37.5902, 23.43401],\n",
    "                     ['Barcelona', 41.23, 2.11],\n",
    "                     ['Berlin', 52.3112, 13.2418],\n",
    "                     ['Brussels', 50.51, 4.21],\n",
    "                     ['Copenhagen', 55.4034, 12.3406],\n",
    "                     ['Dublin', 53.21, -6.16],\n",
    "                     ['Geneva', 46.12, 6.09],\n",
    "                     ['Lisbon', 38.4331, -9.09],\n",
    "                     ['London', 51.3026, -0.739],\n",
    "                     ['Lyon', 45.46, 4.5],\n",
    "                     ['Madrid', 40.25, -3.43],\n",
    "                     ['Milan', 45.2801, 9.1124],\n",
    "                     ['Munich', 48.08, 11.34],\n",
    "                     ['Oslo', 59.545, 10.458],\n",
    "                     ['Paris', 48.5124, 2.2108],\n",
    "                     ['Prague', 50.05, 14.25],\n",
    "                     ['Rome', 41.53, 12.3],\n",
    "                     ['Stockholm', 59.1946, 18.47],\n",
    "                     ['Venice', 45.2615, 12.209],\n",
    "                     ['Vienna', 48.12, 16.22]\n",
    "                    ],\n",
    "                    columns=['city', 'latitude', 'longitude']\n",
    "                   )\n",
    "coor.set_index('city', inplace=True)\n",
    "coor.head(3)"
   ]
  },
  {
   "cell_type": "code",
   "execution_count": 3,
   "metadata": {},
   "outputs": [],
   "source": [
    "def review_lang1(city):\n",
    "    file = 'lang_reviews_' + city + '.csv.gz'\n",
    "    cdf = pd.read_csv(file, encoding='utf-8', low_memory=False)\n",
    "    cdf = cdf.drop(columns=['listing_id', 'id', 'reviewer_id'])\n",
    "    cdf = cdf.dropna()\n",
    "    cdf['lang_count'] = 1\n",
    "    cdf = cdf.groupby(['lang', 'date']).count()\n",
    "    cdf = cdf.reset_index()\n",
    "    \n",
    "    cdf2 = cdf.copy()\n",
    "    cdf2['city'] = city\n",
    "    cdf2['latitude'] = coor.latitude[city]\n",
    "    cdf2['longitude'] = coor.longitude[city]\n",
    "    \n",
    "    cdf_gb = cdf.groupby('lang').sum()\n",
    "    cdf_gb = cdf_gb.reset_index()\n",
    "    cdf_gb_top5 = cdf_gb.sort_values(by=['lang_count'], ascending=False)[:5]\n",
    "    lang_top5 = cdf_gb_top5['lang'].to_list()\n",
    "    \n",
    "    cdf_top5 = cdf2[(cdf2['lang']==lang_top5[0])\n",
    "                    | (cdf2['lang']==lang_top5[1])\n",
    "                    | (cdf2['lang']==lang_top5[2])\n",
    "                    | (cdf2['lang']==lang_top5[3])\n",
    "                    | (cdf2['lang']==lang_top5[4])\n",
    "                   ]\n",
    "    \n",
    "    cdf_pie = cdf_top5.drop(columns=['city', 'latitude', 'longitude'])\n",
    "    cdf_pie = cdf_pie.groupby('lang').sum()\n",
    "    cdf_pie = cdf_pie.reset_index()\n",
    "    cdf_pie['city'] = city\n",
    "    cdf_pie['latitude'] = coor.latitude[city]\n",
    "    cdf_pie['longitude'] = coor.longitude[city]\n",
    "    \n",
    "    return cdf2, cdf_top5, cdf_pie"
   ]
  },
  {
   "cell_type": "code",
   "execution_count": 4,
   "metadata": {},
   "outputs": [],
   "source": [
    "clist = coor.index\n",
    "\n",
    "c21 = pd.DataFrame([])\n",
    "c21_top5 = pd.DataFrame([])\n",
    "c21_pie = pd.DataFrame([])\n",
    "\n",
    "for city in clist:\n",
    "    c1, c2, c3 = review_lang1(city)\n",
    "    c21 = pd.concat([c21, c1])\n",
    "    c21_top5 = pd.concat([c21_top5, c2])\n",
    "    c21_pie = pd.concat([c21_pie, c3])"
   ]
  },
  {
   "cell_type": "code",
   "execution_count": null,
   "metadata": {},
   "outputs": [],
   "source": []
  },
  {
   "cell_type": "code",
   "execution_count": 5,
   "metadata": {},
   "outputs": [],
   "source": [
    "c21_top5 = c21_top5.set_index('lang')\n",
    "c21_top5['language'] = ''\n",
    "c21_top5.loc['da', 'language'] = 'Danish'\n",
    "c21_top5.loc['de', 'language'] = 'German'\n",
    "c21_top5.loc['el', 'language'] = 'Greek'\n",
    "c21_top5.loc['en', 'language'] = 'English'\n",
    "c21_top5.loc['es', 'language'] = 'Spanish'\n",
    "c21_top5.loc['fr', 'language'] = 'French'\n",
    "c21_top5.loc['it', 'language'] = 'Italian'\n",
    "c21_top5.loc['ko', 'language'] = 'Korean'\n",
    "c21_top5.loc['nl', 'language'] = 'Dutch'\n",
    "c21_top5.loc['no', 'language'] = 'Norwegian'\n",
    "c21_top5.loc['pt', 'language'] = 'Portuguese'\n",
    "c21_top5.loc['ru', 'language'] = 'Russian'\n",
    "c21_top5.loc['sv', 'language'] = 'Swedish'\n",
    "c21_top5.loc['zh', 'language'] = 'Chinese'"
   ]
  },
  {
   "cell_type": "code",
   "execution_count": 6,
   "metadata": {},
   "outputs": [],
   "source": [
    "c21_pie = c21_pie.set_index('lang')\n",
    "c21_pie['language'] = ''\n",
    "c21_pie.loc['da', 'language'] = 'Danish'\n",
    "c21_pie.loc['de', 'language'] = 'German'\n",
    "c21_pie.loc['el', 'language'] = 'Greek'\n",
    "c21_pie.loc['en', 'language'] = 'English'\n",
    "c21_pie.loc['es', 'language'] = 'Spanish'\n",
    "c21_pie.loc['fr', 'language'] = 'French'\n",
    "c21_pie.loc['it', 'language'] = 'Italian'\n",
    "c21_pie.loc['ko', 'language'] = 'Korean'\n",
    "c21_pie.loc['nl', 'language'] = 'Dutch'\n",
    "c21_pie.loc['no', 'language'] = 'Norwegian'\n",
    "c21_pie.loc['pt', 'language'] = 'Portuguese'\n",
    "c21_pie.loc['ru', 'language'] = 'Russian'\n",
    "c21_pie.loc['sv', 'language'] = 'Swedish'\n",
    "c21_pie.loc['zh', 'language'] = 'Chinese'"
   ]
  },
  {
   "cell_type": "code",
   "execution_count": null,
   "metadata": {},
   "outputs": [],
   "source": []
  },
  {
   "cell_type": "code",
   "execution_count": 7,
   "metadata": {
    "scrolled": true
   },
   "outputs": [],
   "source": [
    "c21.to_csv('cities21_lang_count.csv.gz',\n",
    "           index=False, encoding='utf-8', compression='gzip')"
   ]
  },
  {
   "cell_type": "code",
   "execution_count": 8,
   "metadata": {},
   "outputs": [],
   "source": [
    "c21_top5.to_csv('cities21_lang_top5_count.csv.gz',\n",
    "                index=False, encoding='utf-8', compression='gzip')"
   ]
  },
  {
   "cell_type": "code",
   "execution_count": 9,
   "metadata": {},
   "outputs": [],
   "source": [
    "c21_pie.to_csv('cities21_lang_top5_pie.csv.gz',\n",
    "               index=False, encoding='utf-8', compression='gzip')"
   ]
  },
  {
   "cell_type": "code",
   "execution_count": null,
   "metadata": {},
   "outputs": [],
   "source": []
  }
 ],
 "metadata": {
  "kernelspec": {
   "display_name": "Python 3",
   "language": "python",
   "name": "python3"
  },
  "language_info": {
   "codemirror_mode": {
    "name": "ipython",
    "version": 3
   },
   "file_extension": ".py",
   "mimetype": "text/x-python",
   "name": "python",
   "nbconvert_exporter": "python",
   "pygments_lexer": "ipython3",
   "version": "3.8.5"
  }
 },
 "nbformat": 4,
 "nbformat_minor": 2
}

{
 "cells": [
  {
   "cell_type": "code",
   "execution_count": 1,
   "metadata": {},
   "outputs": [],
   "source": [
    "import pandas as pd\n",
    "import numpy as np"
   ]
  },
  {
   "cell_type": "code",
   "execution_count": 2,
   "metadata": {},
   "outputs": [
    {
     "data": {
      "text/html": [
       "<div>\n",
       "<style scoped>\n",
       "    .dataframe tbody tr th:only-of-type {\n",
       "        vertical-align: middle;\n",
       "    }\n",
       "\n",
       "    .dataframe tbody tr th {\n",
       "        vertical-align: top;\n",
       "    }\n",
       "\n",
       "    .dataframe thead th {\n",
       "        text-align: right;\n",
       "    }\n",
       "</style>\n",
       "<table border=\"1\" class=\"dataframe\">\n",
       "  <thead>\n",
       "    <tr style=\"text-align: right;\">\n",
       "      <th></th>\n",
       "      <th>latitude</th>\n",
       "      <th>longitude</th>\n",
       "    </tr>\n",
       "    <tr>\n",
       "      <th>city</th>\n",
       "      <th></th>\n",
       "      <th></th>\n",
       "    </tr>\n",
       "  </thead>\n",
       "  <tbody>\n",
       "    <tr>\n",
       "      <th>Amsterdam</th>\n",
       "      <td>52.2200</td>\n",
       "      <td>4.54000</td>\n",
       "    </tr>\n",
       "    <tr>\n",
       "      <th>Athens</th>\n",
       "      <td>37.5902</td>\n",
       "      <td>23.43401</td>\n",
       "    </tr>\n",
       "    <tr>\n",
       "      <th>Barcelona</th>\n",
       "      <td>41.2300</td>\n",
       "      <td>2.11000</td>\n",
       "    </tr>\n",
       "  </tbody>\n",
       "</table>\n",
       "</div>"
      ],
      "text/plain": [
       "           latitude  longitude\n",
       "city                          \n",
       "Amsterdam   52.2200    4.54000\n",
       "Athens      37.5902   23.43401\n",
       "Barcelona   41.2300    2.11000"
      ]
     },
     "execution_count": 2,
     "metadata": {},
     "output_type": "execute_result"
    }
   ],
   "source": [
    "coor = pd.DataFrame([['Amsterdam', 52.22, 4.54],\n",
    "                     ['Athens', 37.5902, 23.43401],\n",
    "                     ['Barcelona', 41.23, 2.11],\n",
    "                     ['Berlin', 52.3112, 13.2418],\n",
    "                     ['Brussels', 50.51, 4.21],\n",
    "                     ['Copenhagen', 55.4034, 12.3406],\n",
    "                     ['Dublin', 53.21, -6.16],\n",
    "                     ['Geneva', 46.12, 6.09],\n",
    "                     ['Lisbon', 38.4331, -9.09],\n",
    "                     ['London', 51.3026, -0.739],\n",
    "                     ['Lyon', 45.46, 4.5],\n",
    "                     ['Madrid', 40.25, -3.43],\n",
    "                     ['Milan', 45.2801, 9.1124],\n",
    "                     ['Munich', 48.08, 11.34],\n",
    "                     ['Oslo', 59.545, 10.458],\n",
    "                     ['Paris', 48.5124, 2.2108],\n",
    "                     ['Prague', 50.05, 14.25],\n",
    "                     ['Rome', 41.53, 12.3],\n",
    "                     ['Stockholm', 59.1946, 18.47],\n",
    "                     ['Venice', 45.2615, 12.209],\n",
    "                     ['Vienna', 48.12, 16.22]\n",
    "                    ],\n",
    "                    columns=['city', 'latitude', 'longitude']\n",
    "                   )\n",
    "coor.set_index('city', inplace=True)\n",
    "coor.head(3)"
   ]
  },
  {
   "cell_type": "code",
   "execution_count": 3,
   "metadata": {},
   "outputs": [],
   "source": [
    "def review_count_eu(city):\n",
    "    file = 'lang_reviews_' + city + '.csv.gz'\n",
    "    cdf = pd.read_csv(file, encoding='utf-8', low_memory=False)\n",
    "    cdf = cdf.drop(columns=['listing_id', 'id', 'reviewer_id', 'lang'])\n",
    "    cdf = cdf.dropna()\n",
    "    cdf['date'] = pd.to_datetime(cdf['date'])\n",
    "    cdf['week_date'] = (cdf['date'].dt.year.astype(str)\n",
    "                        + '-W'\n",
    "                        + cdf['date'].dt.week.astype(str)\n",
    "                       )\n",
    "    cdf = cdf.drop(columns=['date'])\n",
    "    cdf['review_count'] = 1\n",
    "    cdf = cdf.groupby('week_date').count()\n",
    "    cdf = cdf.reset_index()\n",
    "    cdf['city'] = city\n",
    "    cdf['latitude'] = coor.latitude[city]\n",
    "    cdf['longitude'] = coor.longitude[city]\n",
    "    return cdf"
   ]
  },
  {
   "cell_type": "code",
   "execution_count": 4,
   "metadata": {},
   "outputs": [],
   "source": [
    "clist = coor.index\n",
    "\n",
    "c21_c = pd.DataFrame([])\n",
    "\n",
    "for city in clist:\n",
    "    c1 = review_count_eu(city)\n",
    "    c21_c = pd.concat([c21_c, c1])"
   ]
  },
  {
   "cell_type": "code",
   "execution_count": 5,
   "metadata": {},
   "outputs": [
    {
     "data": {
      "text/html": [
       "<div>\n",
       "<style scoped>\n",
       "    .dataframe tbody tr th:only-of-type {\n",
       "        vertical-align: middle;\n",
       "    }\n",
       "\n",
       "    .dataframe tbody tr th {\n",
       "        vertical-align: top;\n",
       "    }\n",
       "\n",
       "    .dataframe thead th {\n",
       "        text-align: right;\n",
       "    }\n",
       "</style>\n",
       "<table border=\"1\" class=\"dataframe\">\n",
       "  <thead>\n",
       "    <tr style=\"text-align: right;\">\n",
       "      <th></th>\n",
       "      <th>week_date</th>\n",
       "      <th>review_count</th>\n",
       "      <th>city</th>\n",
       "      <th>latitude</th>\n",
       "      <th>longitude</th>\n",
       "    </tr>\n",
       "  </thead>\n",
       "  <tbody>\n",
       "    <tr>\n",
       "      <th>0</th>\n",
       "      <td>2009-W14</td>\n",
       "      <td>1</td>\n",
       "      <td>Amsterdam</td>\n",
       "      <td>52.22</td>\n",
       "      <td>4.54</td>\n",
       "    </tr>\n",
       "    <tr>\n",
       "      <th>1</th>\n",
       "      <td>2009-W17</td>\n",
       "      <td>1</td>\n",
       "      <td>Amsterdam</td>\n",
       "      <td>52.22</td>\n",
       "      <td>4.54</td>\n",
       "    </tr>\n",
       "    <tr>\n",
       "      <th>2</th>\n",
       "      <td>2009-W18</td>\n",
       "      <td>1</td>\n",
       "      <td>Amsterdam</td>\n",
       "      <td>52.22</td>\n",
       "      <td>4.54</td>\n",
       "    </tr>\n",
       "  </tbody>\n",
       "</table>\n",
       "</div>"
      ],
      "text/plain": [
       "  week_date  review_count       city  latitude  longitude\n",
       "0  2009-W14             1  Amsterdam     52.22       4.54\n",
       "1  2009-W17             1  Amsterdam     52.22       4.54\n",
       "2  2009-W18             1  Amsterdam     52.22       4.54"
      ]
     },
     "execution_count": 5,
     "metadata": {},
     "output_type": "execute_result"
    }
   ],
   "source": [
    "c21_c.head(3)"
   ]
  },
  {
   "cell_type": "code",
   "execution_count": 6,
   "metadata": {},
   "outputs": [
    {
     "name": "stdout",
     "output_type": "stream",
     "text": [
      "<class 'pandas.core.frame.DataFrame'>\n",
      "Int64Index: 10725 entries, 0 to 504\n",
      "Data columns (total 5 columns):\n",
      " #   Column        Non-Null Count  Dtype  \n",
      "---  ------        --------------  -----  \n",
      " 0   week_date     10725 non-null  object \n",
      " 1   review_count  10725 non-null  int64  \n",
      " 2   city          10725 non-null  object \n",
      " 3   latitude      10725 non-null  float64\n",
      " 4   longitude     10725 non-null  float64\n",
      "dtypes: float64(2), int64(1), object(2)\n",
      "memory usage: 502.7+ KB\n"
     ]
    }
   ],
   "source": [
    "c21_c.info()"
   ]
  },
  {
   "cell_type": "code",
   "execution_count": 7,
   "metadata": {},
   "outputs": [],
   "source": [
    "c21_c.to_csv('cities21_review_count(by_week).csv.gz',\n",
    "             index=False, encoding='utf-8', compression='gzip')"
   ]
  },
  {
   "cell_type": "code",
   "execution_count": null,
   "metadata": {},
   "outputs": [],
   "source": []
  },
  {
   "cell_type": "code",
   "execution_count": null,
   "metadata": {},
   "outputs": [],
   "source": []
  },
  {
   "cell_type": "code",
   "execution_count": null,
   "metadata": {},
   "outputs": [],
   "source": []
  },
  {
   "cell_type": "code",
   "execution_count": 8,
   "metadata": {},
   "outputs": [
    {
     "data": {
      "text/html": [
       "<div>\n",
       "<style scoped>\n",
       "    .dataframe tbody tr th:only-of-type {\n",
       "        vertical-align: middle;\n",
       "    }\n",
       "\n",
       "    .dataframe tbody tr th {\n",
       "        vertical-align: top;\n",
       "    }\n",
       "\n",
       "    .dataframe thead th {\n",
       "        text-align: right;\n",
       "    }\n",
       "</style>\n",
       "<table border=\"1\" class=\"dataframe\">\n",
       "  <thead>\n",
       "    <tr style=\"text-align: right;\">\n",
       "      <th></th>\n",
       "      <th>week_date</th>\n",
       "      <th>review_count</th>\n",
       "      <th>city</th>\n",
       "      <th>latitude</th>\n",
       "      <th>longitude</th>\n",
       "    </tr>\n",
       "  </thead>\n",
       "  <tbody>\n",
       "    <tr>\n",
       "      <th>456</th>\n",
       "      <td>2019-W1</td>\n",
       "      <td>3504</td>\n",
       "      <td>Amsterdam</td>\n",
       "      <td>52.22</td>\n",
       "      <td>4.54</td>\n",
       "    </tr>\n",
       "    <tr>\n",
       "      <th>457</th>\n",
       "      <td>2019-W10</td>\n",
       "      <td>1783</td>\n",
       "      <td>Amsterdam</td>\n",
       "      <td>52.22</td>\n",
       "      <td>4.54</td>\n",
       "    </tr>\n",
       "    <tr>\n",
       "      <th>458</th>\n",
       "      <td>2019-W11</td>\n",
       "      <td>1869</td>\n",
       "      <td>Amsterdam</td>\n",
       "      <td>52.22</td>\n",
       "      <td>4.54</td>\n",
       "    </tr>\n",
       "  </tbody>\n",
       "</table>\n",
       "</div>"
      ],
      "text/plain": [
       "    week_date  review_count       city  latitude  longitude\n",
       "456   2019-W1          3504  Amsterdam     52.22       4.54\n",
       "457  2019-W10          1783  Amsterdam     52.22       4.54\n",
       "458  2019-W11          1869  Amsterdam     52.22       4.54"
      ]
     },
     "execution_count": 8,
     "metadata": {},
     "output_type": "execute_result"
    }
   ],
   "source": [
    "from2019 = c21_c['week_date'] > '2019-W01'\n",
    "c21_c_from2019 = c21_c.loc[from2019]\n",
    "c21_c_from2019.head(3)"
   ]
  },
  {
   "cell_type": "code",
   "execution_count": 9,
   "metadata": {},
   "outputs": [
    {
     "name": "stdout",
     "output_type": "stream",
     "text": [
      "<class 'pandas.core.frame.DataFrame'>\n",
      "Int64Index: 1995 entries, 456 to 504\n",
      "Data columns (total 5 columns):\n",
      " #   Column        Non-Null Count  Dtype  \n",
      "---  ------        --------------  -----  \n",
      " 0   week_date     1995 non-null   object \n",
      " 1   review_count  1995 non-null   int64  \n",
      " 2   city          1995 non-null   object \n",
      " 3   latitude      1995 non-null   float64\n",
      " 4   longitude     1995 non-null   float64\n",
      "dtypes: float64(2), int64(1), object(2)\n",
      "memory usage: 93.5+ KB\n"
     ]
    }
   ],
   "source": [
    "c21_c_from2019.info()"
   ]
  },
  {
   "cell_type": "code",
   "execution_count": 10,
   "metadata": {},
   "outputs": [],
   "source": [
    "c21_c_from2019.to_csv('cities21_review_count(by_week)_from2019.csv.gz',\n",
    "                      index=False, encoding='utf-8', compression='gzip')"
   ]
  },
  {
   "cell_type": "code",
   "execution_count": null,
   "metadata": {},
   "outputs": [],
   "source": []
  }
 ],
 "metadata": {
  "kernelspec": {
   "display_name": "Python 3",
   "language": "python",
   "name": "python3"
  },
  "language_info": {
   "codemirror_mode": {
    "name": "ipython",
    "version": 3
   },
   "file_extension": ".py",
   "mimetype": "text/x-python",
   "name": "python",
   "nbconvert_exporter": "python",
   "pygments_lexer": "ipython3",
   "version": "3.8.5"
  }
 },
 "nbformat": 4,
 "nbformat_minor": 2
}
